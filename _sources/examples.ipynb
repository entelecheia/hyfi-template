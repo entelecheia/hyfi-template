{
 "cells": [
  {
   "attachments": {},
   "cell_type": "markdown",
   "metadata": {
    "id": "cjgz1WTcPWee"
   },
   "source": [
    "# HyFI Template Example\n",
    "\n",
    "This Jupyter Notebook demonstrates the usage of the `hyfit` package, including initializing a workspace, mounting Google Drive on Colab, and using HyFI to manage configurations.\n",
    "\n",
    "First, let's import the necessary functions and classes from the `hyfit` package.\n"
   ]
  },
  {
   "cell_type": "code",
   "execution_count": 1,
   "metadata": {},
   "outputs": [
    {
     "name": "stderr",
     "output_type": "stream",
     "text": [
      "/home/yj.lee/.venvs/hyfi-template/lib/python3.8/site-packages/tqdm/auto.py:21: TqdmWarning: IProgress not found. Please update jupyter and ipywidgets. See https://ipywidgets.readthedocs.io/en/stable/user_install.html\n",
      "  from .autonotebook import tqdm as notebook_tqdm\n"
     ]
    }
   ],
   "source": [
    "from hyfit import get_version, HyFI"
   ]
  },
  {
   "attachments": {},
   "cell_type": "markdown",
   "metadata": {},
   "source": [
    "## Check Version\n",
    "\n",
    "Now, let's get the version of the `hyfi_template` package.\n"
   ]
  },
  {
   "cell_type": "code",
   "execution_count": 2,
   "metadata": {
    "id": "BzxPwsOVPWef"
   },
   "outputs": [
    {
     "name": "stdout",
     "output_type": "stream",
     "text": [
      "HyFI Template version: 0.6.4\n"
     ]
    }
   ],
   "source": [
    "version = get_version()\n",
    "print(\"HyFI Template version:\", version)"
   ]
  },
  {
   "attachments": {},
   "cell_type": "markdown",
   "metadata": {},
   "source": [
    "## Initialize Project\n",
    "\n",
    "We'll initialize the project using the `HyFI.initialize` function. The function takes the following parameters:\n",
    "\n",
    "- `project_name`: Name of the project to use.\n",
    "- `project_description`: Description of the project that will be used.\n",
    "- `project_root`: Root directory of the project.\n",
    "- `project_workspace_name`: Name of the project's workspace directory.\n",
    "- `global_hyfi_root`: Root directory of the global hyfi.\n",
    "- `global_workspace_name`: Name of the global hierachical workspace directory.\n",
    "- `num_workers`: Number of workers to run.\n",
    "- `logging_level`: Log level for the log.\n",
    "- `autotime`: Whether to automatically set time and / or keep track of run times.\n",
    "- `retina`: Whether to use retina or not.\n",
    "- `verbose`: Enables or disables logging\n",
    "\n",
    "We'll check if we're running in Google Colab, and if so, we'll mount Google Drive.\n"
   ]
  },
  {
   "cell_type": "code",
   "execution_count": 6,
   "metadata": {},
   "outputs": [
    {
     "name": "stderr",
     "output_type": "stream",
     "text": [
      "INFO:hyfi.utils.notebooks:Google Colab not detected.\n",
      "INFO:hyfi.utils.notebooks:Extension autotime not found. Install it first.\n",
      "INFO:hyfi.joblib.joblib:initialized batcher with <hyfi.joblib.batch.batcher.Batcher object at 0x7fc72dd2b0a0>\n",
      "INFO:hyfi.main.config:HyFi project [hyfi] initialized\n"
     ]
    },
    {
     "name": "stdout",
     "output_type": "stream",
     "text": [
      "project_dir: /home/yj.lee/.hyfi/projects/hyfi\n",
      "project_workspace_dir: /home/yj.lee/.hyfi/projects/hyfi/workspace\n"
     ]
    }
   ],
   "source": [
    "if HyFI.is_colab():\n",
    "    HyFI.mount_google_drive()\n",
    "\n",
    "h = HyFI.initialize(\n",
    "    project_name=\"hyfi\",\n",
    "    logging_level=\"INFO\",\n",
    "    verbose=True,\n",
    ")\n",
    "\n",
    "print(\"project_dir:\", h.project.root_dir)\n",
    "print(\"project_workspace_dir:\", h.project.workspace_dir)\n"
   ]
  },
  {
   "attachments": {},
   "cell_type": "markdown",
   "metadata": {},
   "source": [
    "## Compose Configuration\n",
    "\n",
    "We can use the `HyFI.compose` function to load a configuration file. In this example, we'll use the default configuration by specifying `path=__default__`.\n"
   ]
  },
  {
   "cell_type": "code",
   "execution_count": 7,
   "metadata": {},
   "outputs": [],
   "source": [
    "cfg = HyFI.compose(\"project\")"
   ]
  },
  {
   "attachments": {},
   "cell_type": "markdown",
   "metadata": {},
   "source": [
    "## Display Configuration\n",
    "\n",
    "Now, let's print the loaded configuration using the `HyFI.print` function.\n"
   ]
  },
  {
   "cell_type": "code",
   "execution_count": 8,
   "metadata": {},
   "outputs": [
    {
     "name": "stdout",
     "output_type": "stream",
     "text": [
      "{'_config_group_': '/project',\n",
      " '_config_name_': '__init__',\n",
      " 'dotenv': {'CACHED_PATH_CACHE_ROOT': None"
     ]
    },
    {
     "name": "stdout",
     "output_type": "stream",
     "text": [
      ",\n",
      "            'CUDA_DEVICE_ORDER': None,\n",
      "            'CUDA_VISIBLE_DEVICES': None,\n",
      "            'DOTENV_DIR': '/mnt/nvme1n1p2/home/yj.lee/workspace/projects/hyfi-template/book',\n",
      "            'DOTENV_FILE': '/mnt/nvme1n1p2/home/yj.lee/workspace/projects/hyfi-template/book/.env',\n",
      "            'DOTENV_FILENAME': '.env',\n",
      "            'ECOS_API_KEY': None,\n",
      "            'FRED_API_KEY': None,\n",
      "            'HF_USER_ACCESS_TOKEN': None,\n",
      "            'HUGGING_FACE_HUB_TOKEN': None,\n",
      "            'HYFI_GLOBAL_ROOT': None,\n",
      "            'HYFI_GLOBAL_WORKSPACE_NAME': None,\n",
      "            'HYFI_LOG_LEVEL': 'WARNING',\n",
      "            'HYFI_NUM_WORKERS': None,\n",
      "            'HYFI_PROJECT_DESC': None,\n",
      "            'HYFI_PROJECT_NAME': None,\n",
      "            'HYFI_PROJECT_ROOT': None,\n",
      "            'HYFI_PROJECT_WORKSPACE_NAME': None,\n",
      "            'HYFI_RESOURCE_DIR': None,\n",
      "            'HYFI_SECRETS_DIR': '/mnt/nvme1n1p2/home/yj.lee/workspace/projects/hyfi-template/book/secrets',\n",
      "            'HYFI_VERBOSE': False,\n",
      "            'KMP_DUPLICATE_LIB_OK': None,\n",
      "            'LABEL_STUDIO_SERVER': None,\n",
      "            'NASDAQ_API_KEY': None,\n",
      "            'OPENAI_API_KEY': None,\n",
      "            'TOKENIZERS_PARALLELISM': None,\n",
      "            'WANDB_API_KEY': None,\n",
      "            'WANDB_DIR': None,\n",
      "            'WANDB_DISABLED': None,\n",
      "            'WANDB_NOTEBOOK_NAME': None,\n",
      "            'WANDB_PROJECT': None,\n",
      "            'WANDB_SILENT': None},\n",
      " 'global_hyfi_root': '/home/yj.lee',\n",
      " 'global_workspace_name': '.hyfi',\n",
      " 'joblib': {'backend': 'joblib',\n",
      "            'initialize_backend': True,\n",
      "            'minibatch_size': 1000,\n",
      "            'num_gpus': 0,\n",
      "            'num_workers': '1',\n",
      "            'verbose': False},\n",
      " 'num_workers': '1',\n",
      " 'path': {'_config_group_': '/path',\n",
      "          '_config_name_': '__project__',\n",
      "          'dirnames': {'archives': 'archives',\n",
      "                       'cache': '.cache',\n",
      "                       'config_json': 'config.json',\n",
      "                       'config_yaml': 'config.yaml',\n",
      "                       'configs': 'configs',\n",
      "                       'datasets': 'datasets',\n",
      "                       'inputs': 'inputs',\n",
      "                       'library': 'libs',\n",
      "                       'logs': 'logs',\n",
      "                       'models': 'models',\n",
      "                       'modules': 'modules',\n",
      "                       'outputs': 'outputs',\n",
      "                       'tmp': 'tmp'},\n",
      "          'global_hyfi_root': '/home/yj.lee',\n",
      "          'global_workspace_name': '.hyfi',\n",
      "          'home': '/home/yj.lee',\n",
      "          'hyfi': '/home/yj.lee/.venvs/hyfi-template/lib/python3.8/site-packages/hyfi',\n",
      "          'package': '/mnt/nvme1n1p2/home/yj.lee/workspace/projects/hyfi-template/src/hyfit',\n",
      "          'project_name': 'hyfi',\n",
      "          'project_root': '/home/yj.lee/.hyfi/projects/hyfi',\n",
      "          'project_workspace_name': 'workspace',\n",
      "          'resources': '/home/yj.lee/.venvs/hyfi-template/lib/python3.8/site-packages/hyfi/resources',\n",
      "          'runtime': '/mnt/nvme1n1p2/home/yj.lee/workspace/projects/hyfi-template/book'},\n",
      " 'project_description': '',\n",
      " 'project_name': 'hyfi',\n",
      " 'project_root': '/home/yj.lee/.hyfi/projects/hyfi',\n",
      " 'project_workspace_name': 'workspace',\n",
      " 'use_huggingface_hub': False,\n",
      " 'use_wandb': False,\n",
      " 'verbose': 'True'}\n"
     ]
    }
   ],
   "source": [
    "HyFI.print(cfg)"
   ]
  },
  {
   "attachments": {},
   "cell_type": "markdown",
   "metadata": {},
   "source": [
    "That's it! This example demonstrated the basic usage of the `hyfit` package. You can now use this package to manage your own projects and tasks in a structured manner.\n"
   ]
  }
 ],
 "metadata": {
  "colab": {
   "name": "corpus.ipynb",
   "provenance": []
  },
  "interpreter": {
   "hash": "f869af7787e6a1c49e09e367fc6e1b81d93d1c6583b43249c80edc047bd13cb2"
  },
  "kernelspec": {
   "display_name": "Python 3",
   "language": "python",
   "name": "python3"
  },
  "language_info": {
   "codemirror_mode": {
    "name": "ipython",
    "version": 3
   },
   "file_extension": ".py",
   "mimetype": "text/x-python",
   "name": "python",
   "nbconvert_exporter": "python",
   "pygments_lexer": "ipython3",
   "version": "3.8.10"
  },
  "widgets": {
   "application/vnd.jupyter.widget-state+json": {
    "state": {},
    "version_major": 2,
    "version_minor": 0
   }
  }
 },
 "nbformat": 4,
 "nbformat_minor": 1
}
