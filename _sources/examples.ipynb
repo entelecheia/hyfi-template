{
 "cells": [
  {
   "attachments": {},
   "cell_type": "markdown",
   "metadata": {
    "id": "cjgz1WTcPWee"
   },
   "source": [
    "# HyFI Template Example\n",
    "\n",
    "This Jupyter Notebook demonstrates the usage of the `hyfi_template` package, including initializing a workspace, mounting Google Drive on Colab, and using HyFI to manage configurations.\n",
    "\n",
    "First, let's import the necessary functions and classes from the `hyfi_template` package.\n"
   ]
  },
  {
   "cell_type": "code",
   "execution_count": 1,
   "metadata": {},
   "outputs": [
    {
     "name": "stderr",
     "output_type": "stream",
     "text": [
      "/home/yjlee/.cache/pypoetry/virtualenvs/hyfi-template-_RhRudZi-py3.8/lib/python3.8/site-packages/tqdm/auto.py:21: TqdmWarning: IProgress not found. Please update jupyter and ipywidgets. See https://ipywidgets.readthedocs.io/en/stable/user_install.html\n",
      "  from .autonotebook import tqdm as notebook_tqdm\n"
     ]
    }
   ],
   "source": [
    "from hyfi_template import get_version, HyFI\n"
   ]
  },
  {
   "attachments": {},
   "cell_type": "markdown",
   "metadata": {},
   "source": [
    "## Check Version\n",
    "\n",
    "Now, let's get the version of the `hyfi_template` package.\n"
   ]
  },
  {
   "cell_type": "code",
   "execution_count": 2,
   "metadata": {
    "id": "BzxPwsOVPWef"
   },
   "outputs": [
    {
     "name": "stdout",
     "output_type": "stream",
     "text": [
      "HyFI Template version: 0.1.5\n"
     ]
    }
   ],
   "source": [
    "version = get_version()\n",
    "print(\"HyFI Template version:\", version)\n"
   ]
  },
  {
   "attachments": {},
   "cell_type": "markdown",
   "metadata": {},
   "source": [
    "## Initialize Workspace\n",
    "\n",
    "We'll initialize the workspace using the `HyFI.init_workspace` function. The function takes the following parameters:\n",
    "\n",
    "- `workspace`: The root workspace directory.\n",
    "- `project`: The project subdirectory.\n",
    "- `task`: The specific task within the project.\n",
    "- `log_level`: Logging level for the workspace.\n",
    "- `verbose`: Whether to print verbose messages.\n",
    "\n",
    "We'll check if we're running in Google Colab, and if so, we'll mount Google Drive.\n"
   ]
  },
  {
   "cell_type": "code",
   "execution_count": 3,
   "metadata": {},
   "outputs": [
    {
     "name": "stderr",
     "output_type": "stream",
     "text": [
      "INFO:hyfi.utils.notebook:Extension autotime not found. Install it first.\n",
      "INFO:hyfi.env:config_module: hyfi.conf\n",
      "INFO:hyfi.env:compose config with overrides: ['+project=__init__']\n",
      "INFO:hyfi.env:initialized batcher with <hyfi.utils.batch.batcher.Batcher object at 0x7f5b4a1cafd0>\n"
     ]
    },
    {
     "name": "stdout",
     "output_type": "stream",
     "text": [
      "version: 0.1.5\n",
      "project_dir: /workspace/projects/hyfi-template/examples\n"
     ]
    }
   ],
   "source": [
    "if HyFI.is_colab():\n",
    "    HyFI.mount_google_drive()\n",
    "\n",
    "ws = HyFI.init_workspace(\n",
    "    workspace=\"/workspace\",\n",
    "    project=\"hyfi-template/examples\",\n",
    "    task=\"test\",\n",
    "    log_level=\"INFO\",\n",
    "    verbose=True,\n",
    ")\n",
    "\n",
    "print(\"version:\", ws.version)\n",
    "print(\"project_dir:\", ws.project_dir)\n"
   ]
  },
  {
   "attachments": {},
   "cell_type": "markdown",
   "metadata": {},
   "source": [
    "## Compose Configuration\n",
    "\n",
    "We can use the `HyFI.compose` function to load a configuration file. In this example, we'll use the default configuration by specifying `path=__default__`.\n"
   ]
  },
  {
   "cell_type": "code",
   "execution_count": 4,
   "metadata": {},
   "outputs": [
    {
     "name": "stderr",
     "output_type": "stream",
     "text": [
      "INFO:hyfi.env:config_module: hyfi_template.conf\n",
      "INFO:hyfi.env:compose config with overrides: ['+path=__default__']\n"
     ]
    }
   ],
   "source": [
    "cfg = HyFI.compose(\"path=__default__\")"
   ]
  },
  {
   "attachments": {},
   "cell_type": "markdown",
   "metadata": {},
   "source": [
    "## Display Configuration\n",
    "\n",
    "Now, let's print the loaded configuration using the `HyFI.print` function.\n"
   ]
  },
  {
   "cell_type": "code",
   "execution_count": 5,
   "metadata": {},
   "outputs": [
    {
     "name": "stdout",
     "output_type": "stream",
     "text": [
      "{'cache_dir': '/workspace/projects/hyfi-template/examples/default-task/cache',\n",
      " 'data_dir': '/workspace/projects/hyfi-template/examples/default-task/data',\n",
      " 'library_dir': '/workspace/projects/hyfi-template/examples/default-task/libs',\n",
      " 'log_dir': '/workspace/projects/hyfi-template/examples/default-task/logs',\n",
      " 'model_dir': '/workspace/projects/hyfi-template/examples/default-task/models',\n",
      " 'output_dir': '/workspace/projects/hyfi-template/examples/default-task/outputs',\n",
      " 'root': '/workspace/projects/hyfi-template/examples/default-task',\n",
      " 'task_name': 'default-task',\n",
      " 'tmp_dir': '/workspace/projects/hyfi-template/examples/default-task/tmp',\n",
      " 'verbose': False}\n"
     ]
    }
   ],
   "source": [
    "HyFI.print(cfg)"
   ]
  },
  {
   "attachments": {},
   "cell_type": "markdown",
   "metadata": {},
   "source": [
    "That's it! This example demonstrated the basic usage of the `hyfi_template` package. You can now use this package to manage your own projects and tasks in a structured manner.\n"
   ]
  }
 ],
 "metadata": {
  "colab": {
   "name": "corpus.ipynb",
   "provenance": []
  },
  "interpreter": {
   "hash": "f869af7787e6a1c49e09e367fc6e1b81d93d1c6583b43249c80edc047bd13cb2"
  },
  "kernelspec": {
   "display_name": "Python 3",
   "language": "python",
   "name": "python3"
  },
  "language_info": {
   "codemirror_mode": {
    "name": "ipython",
    "version": 3
   },
   "file_extension": ".py",
   "mimetype": "text/x-python",
   "name": "python",
   "nbconvert_exporter": "python",
   "pygments_lexer": "ipython3",
   "version": "3.8.12"
  },
  "widgets": {
   "application/vnd.jupyter.widget-state+json": {
    "state": {},
    "version_major": 2,
    "version_minor": 0
   }
  }
 },
 "nbformat": 4,
 "nbformat_minor": 1
}
