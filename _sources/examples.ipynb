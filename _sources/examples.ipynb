{
 "cells": [
  {
   "attachments": {},
   "cell_type": "markdown",
   "metadata": {
    "id": "cjgz1WTcPWee"
   },
   "source": [
    "# HyFI Template Example\n",
    "\n",
    "This Jupyter Notebook demonstrates the usage of the `hyfi_template` package, including initializing a workspace, mounting Google Drive on Colab, and using HyFI to manage configurations.\n",
    "\n",
    "First, let's import the necessary functions and classes from the `hyfi_template` package.\n"
   ]
  },
  {
   "cell_type": "code",
   "execution_count": 1,
   "metadata": {},
   "outputs": [
    {
     "name": "stderr",
     "output_type": "stream",
     "text": [
      "/home/yj.lee/.venvs/hyfi-template/lib/python3.8/site-packages/tqdm/auto.py:21: TqdmWarning: IProgress not found. Please update jupyter and ipywidgets. See https://ipywidgets.readthedocs.io/en/stable/user_install.html\n",
      "  from .autonotebook import tqdm as notebook_tqdm\n"
     ]
    }
   ],
   "source": [
    "from hyfi_template import get_version, HyFI"
   ]
  },
  {
   "attachments": {},
   "cell_type": "markdown",
   "metadata": {},
   "source": [
    "## Check Version\n",
    "\n",
    "Now, let's get the version of the `hyfi_template` package.\n"
   ]
  },
  {
   "cell_type": "code",
   "execution_count": 2,
   "metadata": {
    "id": "BzxPwsOVPWef"
   },
   "outputs": [
    {
     "name": "stdout",
     "output_type": "stream",
     "text": [
      "HyFI Template version: 0.3.9\n"
     ]
    }
   ],
   "source": [
    "version = get_version()\n",
    "print(\"HyFI Template version:\", version)"
   ]
  },
  {
   "attachments": {},
   "cell_type": "markdown",
   "metadata": {},
   "source": [
    "## Initialize Workspace\n",
    "\n",
    "We'll initialize the workspace using the `HyFI.init_workspace` function. The function takes the following parameters:\n",
    "\n",
    "- `workspace`: The root workspace directory.\n",
    "- `project`: The project subdirectory.\n",
    "- `task`: The specific task within the project.\n",
    "- `log_level`: Logging level for the workspace.\n",
    "- `verbose`: Whether to print verbose messages.\n",
    "\n",
    "We'll check if we're running in Google Colab, and if so, we'll mount Google Drive.\n"
   ]
  },
  {
   "cell_type": "code",
   "execution_count": 3,
   "metadata": {},
   "outputs": [
    {
     "name": "stderr",
     "output_type": "stream",
     "text": [
      "INFO:hyfi.utils.notebook:Extension autotime not found. Install it first.\n"
     ]
    },
    {
     "name": "stderr",
     "output_type": "stream",
     "text": [
      "INFO:hyfi.hydra:Initializing `JobLibConfig` class with `__init__` config in `joblib` group.\n",
      "INFO:hyfi.hydra:Initializing `PathConfig` class with `__init__` config in `path` group.\n",
      "INFO:hyfi.hydra:Initializing `ProjectConfig` class with `__init__` config in `project` group.\n",
      "INFO:hyfi.hydra:Initializing `PathConfig` class with `__init__` config in `path` group.\n",
      "INFO:hyfi.hydra:Initializing `JobLibConfig` class with `__init__` config in `joblib` group.\n"
     ]
    },
    {
     "name": "stdout",
     "output_type": "stream",
     "text": [
      "project_dir: /home/yj.lee/.hyfi/workspace/projects/hyfi-template\n",
      "project_workspace_dir: /home/yj.lee/.hyfi/workspace/projects/hyfi-template/workspace\n"
     ]
    }
   ],
   "source": [
    "if HyFI.is_colab():\n",
    "    HyFI.mount_google_drive()\n",
    "\n",
    "ws = HyFI.init_workspace(\n",
    "    project_name=\"hyfi-template\",\n",
    "    task_name=\"test\",\n",
    "    log_level=\"INFO\",\n",
    "    verbose=True,\n",
    ")\n",
    "\n",
    "print(\"project_dir:\", ws.project_dir)\n",
    "print(\"project_workspace_dir:\", ws.project_workspace_dir)"
   ]
  },
  {
   "attachments": {},
   "cell_type": "markdown",
   "metadata": {},
   "source": [
    "## Compose Configuration\n",
    "\n",
    "We can use the `HyFI.compose` function to load a configuration file. In this example, we'll use the default configuration by specifying `path=__default__`.\n"
   ]
  },
  {
   "cell_type": "code",
   "execution_count": 5,
   "metadata": {},
   "outputs": [],
   "source": [
    "cfg = HyFI.compose(\"path=__batch__\")"
   ]
  },
  {
   "attachments": {},
   "cell_type": "markdown",
   "metadata": {},
   "source": [
    "## Display Configuration\n",
    "\n",
    "Now, let's print the loaded configuration using the `HyFI.print` function.\n"
   ]
  },
  {
   "cell_type": "code",
   "execution_count": 6,
   "metadata": {},
   "outputs": [
    {
     "name": "stdout",
     "output_type": "stream",
     "text": [
      "{'batch_outputs': './tmp/outputs/batch-outputs',\n",
      " 'task_cache': './tmp/cache',\n",
      " 'task_datasets': './tmp/datasets',\n",
      " 'task_library': './tmp/libs',\n",
      " 'task_log': './tmp/logs',\n",
      " 'task_models': './tmp/models',\n",
      " 'task_outputs': './tmp/outputs',\n",
      " 'task_root': './tmp',\n",
      " 'task_tmp': './tmp/tmp'}\n"
     ]
    }
   ],
   "source": [
    "HyFI.print(cfg)"
   ]
  },
  {
   "attachments": {},
   "cell_type": "markdown",
   "metadata": {},
   "source": [
    "That's it! This example demonstrated the basic usage of the `hyfi_template` package. You can now use this package to manage your own projects and tasks in a structured manner.\n"
   ]
  },
  {
   "cell_type": "markdown",
   "metadata": {},
   "source": []
  }
 ],
 "metadata": {
  "colab": {
   "name": "corpus.ipynb",
   "provenance": []
  },
  "interpreter": {
   "hash": "f869af7787e6a1c49e09e367fc6e1b81d93d1c6583b43249c80edc047bd13cb2"
  },
  "kernelspec": {
   "display_name": "Python 3",
   "language": "python",
   "name": "python3"
  },
  "language_info": {
   "codemirror_mode": {
    "name": "ipython",
    "version": 3
   },
   "file_extension": ".py",
   "mimetype": "text/x-python",
   "name": "python",
   "nbconvert_exporter": "python",
   "pygments_lexer": "ipython3",
   "version": "3.8.10"
  },
  "widgets": {
   "application/vnd.jupyter.widget-state+json": {
    "state": {},
    "version_major": 2,
    "version_minor": 0
   }
  }
 },
 "nbformat": 4,
 "nbformat_minor": 1
}
